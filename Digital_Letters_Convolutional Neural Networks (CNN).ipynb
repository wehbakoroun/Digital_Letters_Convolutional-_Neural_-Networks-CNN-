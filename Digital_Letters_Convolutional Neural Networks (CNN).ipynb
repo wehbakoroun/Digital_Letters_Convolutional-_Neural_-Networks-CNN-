{
 "cells": [
  {
   "cell_type": "code",
   "execution_count": 1,
   "id": "ceb95a76",
   "metadata": {},
   "outputs": [],
   "source": [
    "# import pandas,numpy,matplot libraries.\n",
    "import pandas as pd\n",
    "import numpy as np\n",
    "import matplotlib.pyplot as plt\n",
    "# display all verzilations matplot inside the same screen with code.  \n",
    "%matplotlib inline\n"
   ]
  },
  {
   "cell_type": "code",
   "execution_count": 2,
   "id": "27371d8a",
   "metadata": {},
   "outputs": [
    {
     "data": {
      "text/html": [
       "<div>\n",
       "<style scoped>\n",
       "    .dataframe tbody tr th:only-of-type {\n",
       "        vertical-align: middle;\n",
       "    }\n",
       "\n",
       "    .dataframe tbody tr th {\n",
       "        vertical-align: top;\n",
       "    }\n",
       "\n",
       "    .dataframe thead th {\n",
       "        text-align: right;\n",
       "    }\n",
       "</style>\n",
       "<table border=\"1\" class=\"dataframe\">\n",
       "  <thead>\n",
       "    <tr style=\"text-align: right;\">\n",
       "      <th></th>\n",
       "      <th>Unnamed: 0</th>\n",
       "      <th>0</th>\n",
       "      <th>1</th>\n",
       "      <th>2</th>\n",
       "      <th>3</th>\n",
       "      <th>4</th>\n",
       "      <th>5</th>\n",
       "      <th>6</th>\n",
       "      <th>7</th>\n",
       "      <th>8</th>\n",
       "      <th>...</th>\n",
       "      <th>775</th>\n",
       "      <th>776</th>\n",
       "      <th>777</th>\n",
       "      <th>778</th>\n",
       "      <th>779</th>\n",
       "      <th>780</th>\n",
       "      <th>781</th>\n",
       "      <th>782</th>\n",
       "      <th>783</th>\n",
       "      <th>label</th>\n",
       "    </tr>\n",
       "  </thead>\n",
       "  <tbody>\n",
       "    <tr>\n",
       "      <th>0</th>\n",
       "      <td>0</td>\n",
       "      <td>0.0</td>\n",
       "      <td>0.0</td>\n",
       "      <td>0.0</td>\n",
       "      <td>0.0</td>\n",
       "      <td>0.0</td>\n",
       "      <td>0.0</td>\n",
       "      <td>0.0</td>\n",
       "      <td>0.0</td>\n",
       "      <td>0.0</td>\n",
       "      <td>...</td>\n",
       "      <td>0.0</td>\n",
       "      <td>0.0</td>\n",
       "      <td>0.0</td>\n",
       "      <td>0.0</td>\n",
       "      <td>0.0</td>\n",
       "      <td>0.0</td>\n",
       "      <td>0.0</td>\n",
       "      <td>0.0</td>\n",
       "      <td>0.0</td>\n",
       "      <td>A</td>\n",
       "    </tr>\n",
       "    <tr>\n",
       "      <th>1</th>\n",
       "      <td>1</td>\n",
       "      <td>0.0</td>\n",
       "      <td>0.0</td>\n",
       "      <td>0.0</td>\n",
       "      <td>0.0</td>\n",
       "      <td>0.0</td>\n",
       "      <td>0.0</td>\n",
       "      <td>0.0</td>\n",
       "      <td>0.0</td>\n",
       "      <td>0.0</td>\n",
       "      <td>...</td>\n",
       "      <td>0.0</td>\n",
       "      <td>0.0</td>\n",
       "      <td>0.0</td>\n",
       "      <td>0.0</td>\n",
       "      <td>0.0</td>\n",
       "      <td>0.0</td>\n",
       "      <td>0.0</td>\n",
       "      <td>0.0</td>\n",
       "      <td>0.0</td>\n",
       "      <td>B</td>\n",
       "    </tr>\n",
       "    <tr>\n",
       "      <th>2</th>\n",
       "      <td>2</td>\n",
       "      <td>0.0</td>\n",
       "      <td>0.0</td>\n",
       "      <td>0.0</td>\n",
       "      <td>0.0</td>\n",
       "      <td>0.0</td>\n",
       "      <td>0.0</td>\n",
       "      <td>0.0</td>\n",
       "      <td>0.0</td>\n",
       "      <td>0.0</td>\n",
       "      <td>...</td>\n",
       "      <td>0.0</td>\n",
       "      <td>0.0</td>\n",
       "      <td>0.0</td>\n",
       "      <td>0.0</td>\n",
       "      <td>0.0</td>\n",
       "      <td>0.0</td>\n",
       "      <td>0.0</td>\n",
       "      <td>0.0</td>\n",
       "      <td>0.0</td>\n",
       "      <td>C</td>\n",
       "    </tr>\n",
       "    <tr>\n",
       "      <th>3</th>\n",
       "      <td>3</td>\n",
       "      <td>0.0</td>\n",
       "      <td>0.0</td>\n",
       "      <td>0.0</td>\n",
       "      <td>0.0</td>\n",
       "      <td>0.0</td>\n",
       "      <td>0.0</td>\n",
       "      <td>0.0</td>\n",
       "      <td>0.0</td>\n",
       "      <td>0.0</td>\n",
       "      <td>...</td>\n",
       "      <td>0.0</td>\n",
       "      <td>0.0</td>\n",
       "      <td>0.0</td>\n",
       "      <td>0.0</td>\n",
       "      <td>0.0</td>\n",
       "      <td>0.0</td>\n",
       "      <td>0.0</td>\n",
       "      <td>0.0</td>\n",
       "      <td>0.0</td>\n",
       "      <td>D</td>\n",
       "    </tr>\n",
       "    <tr>\n",
       "      <th>4</th>\n",
       "      <td>4</td>\n",
       "      <td>0.0</td>\n",
       "      <td>0.0</td>\n",
       "      <td>0.0</td>\n",
       "      <td>0.0</td>\n",
       "      <td>0.0</td>\n",
       "      <td>0.0</td>\n",
       "      <td>0.0</td>\n",
       "      <td>0.0</td>\n",
       "      <td>0.0</td>\n",
       "      <td>...</td>\n",
       "      <td>0.0</td>\n",
       "      <td>0.0</td>\n",
       "      <td>0.0</td>\n",
       "      <td>0.0</td>\n",
       "      <td>0.0</td>\n",
       "      <td>0.0</td>\n",
       "      <td>0.0</td>\n",
       "      <td>0.0</td>\n",
       "      <td>0.0</td>\n",
       "      <td>E</td>\n",
       "    </tr>\n",
       "  </tbody>\n",
       "</table>\n",
       "<p>5 rows × 786 columns</p>\n",
       "</div>"
      ],
      "text/plain": [
       "   Unnamed: 0    0    1    2    3    4    5    6    7    8  ...  775  776  \\\n",
       "0           0  0.0  0.0  0.0  0.0  0.0  0.0  0.0  0.0  0.0  ...  0.0  0.0   \n",
       "1           1  0.0  0.0  0.0  0.0  0.0  0.0  0.0  0.0  0.0  ...  0.0  0.0   \n",
       "2           2  0.0  0.0  0.0  0.0  0.0  0.0  0.0  0.0  0.0  ...  0.0  0.0   \n",
       "3           3  0.0  0.0  0.0  0.0  0.0  0.0  0.0  0.0  0.0  ...  0.0  0.0   \n",
       "4           4  0.0  0.0  0.0  0.0  0.0  0.0  0.0  0.0  0.0  ...  0.0  0.0   \n",
       "\n",
       "   777  778  779  780  781  782  783  label  \n",
       "0  0.0  0.0  0.0  0.0  0.0  0.0  0.0      A  \n",
       "1  0.0  0.0  0.0  0.0  0.0  0.0  0.0      B  \n",
       "2  0.0  0.0  0.0  0.0  0.0  0.0  0.0      C  \n",
       "3  0.0  0.0  0.0  0.0  0.0  0.0  0.0      D  \n",
       "4  0.0  0.0  0.0  0.0  0.0  0.0  0.0      E  \n",
       "\n",
       "[5 rows x 786 columns]"
      ]
     },
     "execution_count": 2,
     "metadata": {},
     "output_type": "execute_result"
    }
   ],
   "source": [
    "# used pandas methods to hent dataset from pathfile\n",
    "# and change data to numpy array, so become easy to split and train og evolate.\n",
    "path = \"digital_letters.csv\"\n",
    "data = pd.read_csv(path)\n",
    "data.head()"
   ]
  },
  {
   "cell_type": "code",
   "execution_count": 3,
   "id": "bd936b40",
   "metadata": {},
   "outputs": [
    {
     "data": {
      "text/plain": [
       "0        A\n",
       "1        B\n",
       "2        C\n",
       "3        D\n",
       "4        E\n",
       "        ..\n",
       "13125    V\n",
       "13126    W\n",
       "13127    X\n",
       "13128    Y\n",
       "13129    Z\n",
       "Name: label, Length: 13130, dtype: object"
      ]
     },
     "execution_count": 3,
     "metadata": {},
     "output_type": "execute_result"
    }
   ],
   "source": [
    "data['label']"
   ]
  },
  {
   "cell_type": "code",
   "execution_count": 4,
   "id": "d24a4a4b",
   "metadata": {},
   "outputs": [
    {
     "data": {
      "text/plain": [
       "array([[0, 0.0, 0.0, ..., 0.0, 0.0, 'A'],\n",
       "       [1, 0.0, 0.0, ..., 0.0, 0.0, 'B'],\n",
       "       [2, 0.0, 0.0, ..., 0.0, 0.0, 'C'],\n",
       "       ...,\n",
       "       [13127, 0.0, 0.0, ..., 0.0, 0.0, 'X'],\n",
       "       [13128, 0.0, 0.0, ..., 0.0, 0.0, 'Y'],\n",
       "       [13129, 0.0, 0.0, ..., 0.0, 0.0, 'Z']], dtype=object)"
      ]
     },
     "execution_count": 4,
     "metadata": {},
     "output_type": "execute_result"
    }
   ],
   "source": [
    "# change data to numpy array.\n",
    "dataset = data.to_numpy()\n",
    "dataset"
   ]
  },
  {
   "cell_type": "code",
   "execution_count": 5,
   "id": "ad2c1296",
   "metadata": {},
   "outputs": [
    {
     "data": {
      "text/plain": [
       "(13130, 786)"
      ]
     },
     "execution_count": 5,
     "metadata": {},
     "output_type": "execute_result"
    }
   ],
   "source": [
    "# used shape to descoverd data length(many numbers)\n",
    "# and how many rows \n",
    "dataset.shape"
   ]
  },
  {
   "cell_type": "code",
   "execution_count": 6,
   "id": "4294b764",
   "metadata": {},
   "outputs": [
    {
     "data": {
      "text/plain": [
       "array([[0, 0.0, 0.0, ..., 0.0, 0.0, 'A'],\n",
       "       [1, 0.0, 0.0, ..., 0.0, 0.0, 'B'],\n",
       "       [2, 0.0, 0.0, ..., 0.0, 0.0, 'C'],\n",
       "       ...,\n",
       "       [782, 0.0, 0.0, ..., 0.0, 0.0, 'C'],\n",
       "       [783, 0.0, 0.0, ..., 0.0, 0.0, 'D'],\n",
       "       [784, 0.0, 0.0, ..., 0.0, 0.0, 'E']], dtype=object)"
      ]
     },
     "execution_count": 6,
     "metadata": {},
     "output_type": "execute_result"
    }
   ],
   "source": [
    "#take all columns and rows in the numpy array.\n",
    "dataset[0:785]"
   ]
  },
  {
   "cell_type": "code",
   "execution_count": 7,
   "id": "a038c78e",
   "metadata": {},
   "outputs": [
    {
     "data": {
      "text/plain": [
       "array([0, 1, 2, ..., 13127, 13128, 13129], dtype=object)"
      ]
     },
     "execution_count": 7,
     "metadata": {},
     "output_type": "execute_result"
    }
   ],
   "source": [
    "# the first index in array we don't need.\n",
    "dataset[:,0]"
   ]
  },
  {
   "cell_type": "code",
   "execution_count": 8,
   "id": "0d1ac518",
   "metadata": {},
   "outputs": [
    {
     "data": {
      "text/plain": [
       "((13130, 784), dtype('O'), 2)"
      ]
     },
     "execution_count": 8,
     "metadata": {},
     "output_type": "execute_result"
    }
   ],
   "source": [
    "# see how many data    ,data type             ,array dimentions number.\n",
    "dataset[:,1:785].shape , dataset[:,1:785].dtype, dataset[:,1:785].ndim"
   ]
  },
  {
   "cell_type": "code",
   "execution_count": 9,
   "id": "618ce57a",
   "metadata": {},
   "outputs": [
    {
     "data": {
      "text/plain": [
       "array([[0.0, 0.0, 0.0, ..., 0.0, 0.0, 0.0],\n",
       "       [0.0, 0.0, 0.0, ..., 0.0, 0.0, 0.0],\n",
       "       [0.0, 0.0, 0.0, ..., 0.0, 0.0, 0.0],\n",
       "       ...,\n",
       "       [0.0, 0.0, 0.0, ..., 0.0, 0.0, 0.0],\n",
       "       [0.0, 0.0, 0.0, ..., 0.0, 0.0, 0.0],\n",
       "       [0.0, 0.0, 0.0, ..., 0.0, 0.0, 0.0]], dtype=object)"
      ]
     },
     "execution_count": 9,
     "metadata": {},
     "output_type": "execute_result"
    }
   ],
   "source": [
    "# all raows and columns without first colum (0)and last label column(786).\n",
    "features= dataset[:,1:785]\n",
    "features\n"
   ]
  },
  {
   "cell_type": "code",
   "execution_count": 10,
   "id": "dbe3e00d",
   "metadata": {},
   "outputs": [
    {
     "data": {
      "text/plain": [
       "((13130,), dtype('O'), 1)"
      ]
     },
     "execution_count": 10,
     "metadata": {},
     "output_type": "execute_result"
    }
   ],
   "source": [
    "# the target dataset the last column 'label'.\n",
    "labels=dataset[:,785]\n",
    "labels.shape ,labels.dtype ,labels.ndim"
   ]
  },
  {
   "cell_type": "code",
   "execution_count": 11,
   "id": "213ba0e8",
   "metadata": {},
   "outputs": [
    {
     "data": {
      "text/plain": [
       "array(['A', 'B', 'C', ..., 'X', 'Y', 'Z'], dtype=object)"
      ]
     },
     "execution_count": 11,
     "metadata": {},
     "output_type": "execute_result"
    }
   ],
   "source": [
    "labels"
   ]
  },
  {
   "cell_type": "code",
   "execution_count": 12,
   "id": "b347668a",
   "metadata": {},
   "outputs": [
    {
     "data": {
      "text/plain": [
       "array([[1, 0, 0, ..., 0, 0, 0],\n",
       "       [0, 1, 0, ..., 0, 0, 0],\n",
       "       [0, 0, 1, ..., 0, 0, 0],\n",
       "       ...,\n",
       "       [0, 0, 0, ..., 1, 0, 0],\n",
       "       [0, 0, 0, ..., 0, 1, 0],\n",
       "       [0, 0, 0, ..., 0, 0, 1]])"
      ]
     },
     "execution_count": 12,
     "metadata": {},
     "output_type": "execute_result"
    }
   ],
   "source": [
    "# change the data type for labels objectes to int, labelbinazer \n",
    "# change eatch value in labels to give it one tal.\n",
    "from sklearn.preprocessing import LabelBinarizer\n",
    "binencoder = LabelBinarizer()\n",
    "labels_ready = binencoder.fit_transform(labels)\n",
    "labels_ready"
   ]
  },
  {
   "cell_type": "code",
   "execution_count": 13,
   "id": "175561d4",
   "metadata": {},
   "outputs": [
    {
     "data": {
      "text/plain": [
       "((13130, 26), dtype('int32'), 2)"
      ]
     },
     "execution_count": 13,
     "metadata": {},
     "output_type": "execute_result"
    }
   ],
   "source": [
    "labels_ready.shape ,labels_ready.dtype ,labels_ready.ndim"
   ]
  },
  {
   "cell_type": "code",
   "execution_count": 14,
   "id": "2bc2b0c9",
   "metadata": {},
   "outputs": [
    {
     "data": {
      "text/plain": [
       "array([[0., 0., 0., ..., 0., 0., 0.],\n",
       "       [0., 0., 0., ..., 0., 0., 0.],\n",
       "       [0., 0., 0., ..., 0., 0., 0.],\n",
       "       ...,\n",
       "       [0., 0., 0., ..., 0., 0., 0.],\n",
       "       [0., 0., 0., ..., 0., 0., 0.],\n",
       "       [0., 0., 0., ..., 0., 0., 0.]])"
      ]
     },
     "execution_count": 14,
     "metadata": {},
     "output_type": "execute_result"
    }
   ],
   "source": [
    "# make  features values between 0 and 1. \n",
    "from sklearn.preprocessing import StandardScaler, MinMaxScaler\n",
    "\n",
    "scaler = MinMaxScaler()\n",
    "features_ready = scaler.fit_transform(features)\n",
    "features_ready"
   ]
  },
  {
   "cell_type": "code",
   "execution_count": 15,
   "id": "1af4da8b",
   "metadata": {},
   "outputs": [
    {
     "data": {
      "text/plain": [
       "((13130, 784), dtype('float64'), 2)"
      ]
     },
     "execution_count": 15,
     "metadata": {},
     "output_type": "execute_result"
    }
   ],
   "source": [
    "features_ready.shape ,  features_ready.dtype ,   features_ready.ndim"
   ]
  },
  {
   "cell_type": "code",
   "execution_count": 16,
   "id": "9e477caf",
   "metadata": {},
   "outputs": [],
   "source": [
    "# split dataset to train first 2000 values \n",
    "# and 1000 to validation and th raminder data to test partions.\n",
    "\n",
    "X_test, X_valid, X_train   =  features_ready[2000:]  , features_ready[2000:3000], features_ready[3000:]\n",
    "y_test, y_valid, y_train   =  labels_ready[2000:]  , labels_ready[2000:3000], labels_ready[3000:]\n"
   ]
  },
  {
   "cell_type": "code",
   "execution_count": 17,
   "id": "8b82ed80",
   "metadata": {},
   "outputs": [
    {
     "data": {
      "text/plain": [
       "((10130, 784), 2, dtype('float64'))"
      ]
     },
     "execution_count": 17,
     "metadata": {},
     "output_type": "execute_result"
    }
   ],
   "source": [
    "# see result\n",
    "X_train.shape ,X_train.ndim , X_train.dtype"
   ]
  },
  {
   "cell_type": "code",
   "execution_count": 18,
   "id": "8800f71b",
   "metadata": {},
   "outputs": [
    {
     "data": {
      "text/plain": [
       "((10130, 28, 28, 1), dtype('float64'), 4)"
      ]
     },
     "execution_count": 18,
     "metadata": {},
     "output_type": "execute_result"
    }
   ],
   "source": [
    "# changr the shape of array like matches the input shape for the\n",
    "# model -1 numbers of vlaues 28,28 the pixel in eatch value, 1 one deminstional \n",
    "# in the images value.\n",
    "X_train_ready=X_train.reshape(-1,28,28,1)\n",
    "X_train_ready.shape  ,  X_train_ready.dtype ,  X_train_ready.ndim"
   ]
  },
  {
   "cell_type": "code",
   "execution_count": 19,
   "id": "33e5f741",
   "metadata": {},
   "outputs": [
    {
     "data": {
      "text/plain": [
       "((1000, 28, 28, 1), dtype('float64'), 4)"
      ]
     },
     "execution_count": 19,
     "metadata": {},
     "output_type": "execute_result"
    }
   ],
   "source": [
    "# the same for validations data.\n",
    "X_valid_ready = X_valid.reshape(-1,28,28,1)\n",
    "X_valid_ready.shape  ,  X_valid_ready.dtype  ,  X_valid_ready.ndim"
   ]
  },
  {
   "cell_type": "code",
   "execution_count": 20,
   "id": "9422c063",
   "metadata": {},
   "outputs": [
    {
     "data": {
      "text/plain": [
       "((11130, 28, 28, 1), dtype('float64'), 4)"
      ]
     },
     "execution_count": 20,
     "metadata": {},
     "output_type": "execute_result"
    }
   ],
   "source": [
    "# change the shape so we can used to evulate the model.\n",
    "X_test_ready = X_test.reshape(-1,28,28,1)\n",
    "X_test_ready.shape , X_test_ready.dtype , X_test_ready.ndim"
   ]
  },
  {
   "cell_type": "code",
   "execution_count": 21,
   "id": "9240691d",
   "metadata": {},
   "outputs": [
    {
     "data": {
      "text/plain": [
       "((11130, 26), dtype('int32'), 2)"
      ]
     },
     "execution_count": 21,
     "metadata": {},
     "output_type": "execute_result"
    }
   ],
   "source": [
    "y_test.shape, y_test.dtype , y_test.ndim "
   ]
  },
  {
   "cell_type": "code",
   "execution_count": 22,
   "id": "cecba70a",
   "metadata": {},
   "outputs": [
    {
     "data": {
      "text/plain": [
       "((1000, 26), dtype('int32'), 2)"
      ]
     },
     "execution_count": 22,
     "metadata": {},
     "output_type": "execute_result"
    }
   ],
   "source": [
    "y_valid.shape , y_valid.dtype , y_valid.ndim"
   ]
  },
  {
   "cell_type": "code",
   "execution_count": 23,
   "id": "3f24ca5a",
   "metadata": {},
   "outputs": [
    {
     "data": {
      "text/plain": [
       "((10130, 26), dtype('int32'), 2)"
      ]
     },
     "execution_count": 23,
     "metadata": {},
     "output_type": "execute_result"
    }
   ],
   "source": [
    "y_train.shape , y_train.dtype , y_train.ndim"
   ]
  },
  {
   "cell_type": "code",
   "execution_count": 24,
   "id": "cc9b6a05",
   "metadata": {},
   "outputs": [
    {
     "data": {
      "image/png": "[encoded data removed]",
      "text/plain": [
       "<Figure size 1000x1000 with 9 Axes>"
      ]
     },
     "metadata": {},
     "output_type": "display_data"
    }
   ],
   "source": [
    "# nine images exaple from training set\n",
    "import matplotlib.pyplot as plt\n",
    "X_images = X_train_ready.reshape(-1,28,28)\n",
    "plt.subplots(3,3, figsize=(10,10))\n",
    "for i in range(9):\n",
    "    arr = X_images[i]\n",
    "    plt.subplot(3,3, i+1)\n",
    "    plt.imshow(arr)\n",
    "plt.tight_layout()\n",
    "plt.show()"
   ]
  },
  {
   "cell_type": "code",
   "execution_count": 25,
   "id": "5ff706e5",
   "metadata": {},
   "outputs": [],
   "source": [
    "# import the sequential algorithims for CNN\n",
    "from keras.models import Sequential\n",
    "from tensorflow import keras\n",
    "model = keras.models.Sequential([\n",
    "    # add first input convolutional layer (Conv2D class) with padding Zero\n",
    "    # the number of filters increase with hyaer layers\n",
    "    # receptive field (kernel_size (7x7))\n",
    "    # with input shape 28,28 to images pixel and 1 to one color chanal in eatch image\n",
    "    keras.layers.Conv2D(filters=64, kernel_size=7, activation='relu', padding=\"SAME\", \n",
    "                        input_shape=[28, 28, 1]),\n",
    "    # pooling layer added after eatch convolutional layer\n",
    "    # to shrink the input image.\n",
    "    # MaxPooling2D the class with size(2x2) for receptive field\n",
    "    keras.layers.MaxPooling2D(pool_size=2),\n",
    "    # repeated  convolutional layer depended after how many images in the data\n",
    "    keras.layers.Conv2D(filters=128, kernel_size=3, activation='relu', padding=\"SAME\"),\n",
    "    keras.layers.Conv2D(filters=128, kernel_size=3, activation='relu', padding=\"SAME\"),\n",
    "    keras.layers.MaxPooling2D(pool_size=2),\n",
    "    # repeated  convolutional layer \n",
    "    keras.layers.Conv2D(filters=256, kernel_size=3, activation='relu', padding=\"SAME\"),\n",
    "    keras.layers.Conv2D(filters=256, kernel_size=3, activation='relu', padding=\"SAME\"),\n",
    "    keras.layers.MaxPooling2D(pool_size=2),\n",
    "    # flatten layer to make all data in one dimention input\n",
    "    keras.layers.Flatten(),\n",
    "    # the hidden fylly conecting layers\n",
    "    keras.layers.Dense(units=128, activation='relu'),\n",
    "    # to reduce overfitting\n",
    "    keras.layers.Dropout(0.5),\n",
    "    keras.layers.Dense(units=64, activation='relu'),\n",
    "    keras.layers.Dropout(0.5),\n",
    "    #output layer \n",
    "    keras.layers.Dense(units=26, activation='softmax'),\n",
    "])"
   ]
  },
  {
   "cell_type": "code",
   "execution_count": 26,
   "id": "b23d50f0",
   "metadata": {},
   "outputs": [
    {
     "name": "stdout",
     "output_type": "stream",
     "text": [
      "Model: \"sequential\"\n",
      "_________________________________________________________________\n",
      " Layer (type)                Output Shape              Param #   \n",
      "=================================================================\n",
      " conv2d (Conv2D)             (None, 28, 28, 64)        3200      \n",
      "                                                                 \n",
      " max_pooling2d (MaxPooling2D  (None, 14, 14, 64)       0         \n",
      " )                                                               \n",
      "                                                                 \n",
      " conv2d_1 (Conv2D)           (None, 14, 14, 128)       73856     \n",
      "                                                                 \n",
      " conv2d_2 (Conv2D)           (None, 14, 14, 128)       147584    \n",
      "                                                                 \n",
      " max_pooling2d_1 (MaxPooling  (None, 7, 7, 128)        0         \n",
      " 2D)                                                             \n",
      "                                                                 \n",
      " conv2d_3 (Conv2D)           (None, 7, 7, 256)         295168    \n",
      "                                                                 \n",
      " conv2d_4 (Conv2D)           (None, 7, 7, 256)         590080    \n",
      "                                                                 \n",
      " max_pooling2d_2 (MaxPooling  (None, 3, 3, 256)        0         \n",
      " 2D)                                                             \n",
      "                                                                 \n",
      " flatten (Flatten)           (None, 2304)              0         \n",
      "                                                                 \n",
      " dense (Dense)               (None, 128)               295040    \n",
      "                                                                 \n",
      " dropout (Dropout)           (None, 128)               0         \n",
      "                                                                 \n",
      " dense_1 (Dense)             (None, 64)                8256      \n",
      "                                                                 \n",
      " dropout_1 (Dropout)         (None, 64)                0         \n",
      "                                                                 \n",
      " dense_2 (Dense)             (None, 26)                1690      \n",
      "                                                                 \n",
      "=================================================================\n",
      "Total params: 1,414,874\n",
      "Trainable params: 1,414,874\n",
      "Non-trainable params: 0\n",
      "_________________________________________________________________\n"
     ]
    }
   ],
   "source": [
    "model.summary()"
   ]
  },
  {
   "cell_type": "code",
   "execution_count": 27,
   "id": "63692fce",
   "metadata": {},
   "outputs": [],
   "source": [
    "# loss (categorical_crossentropy) that we  If we were doing binary classification (with one binary labels),\n",
    "# with momentum optimizer the model will training faster\n",
    "# metrics to compute during training and evaluation.\n",
    "model.compile(loss=\"categorical_crossentropy\", optimizer=keras.optimizers.SGD(momentum=0.9), metrics=[\"accuracy\"])"
   ]
  },
  {
   "cell_type": "code",
   "execution_count": 28,
   "id": "615b0a45",
   "metadata": {
    "scrolled": true
   },
   "outputs": [
    {
     "name": "stdout",
     "output_type": "stream",
     "text": [
      "Epoch 1/20\n",
      "317/317 [==============================] - 83s 257ms/step - loss: 3.2160 - accuracy: 0.0586 - val_loss: 2.8951 - val_accuracy: 0.1900\n",
      "Epoch 2/20\n",
      "317/317 [==============================] - 84s 266ms/step - loss: 2.3323 - accuracy: 0.3050 - val_loss: 1.7483 - val_accuracy: 0.5100\n",
      "Epoch 3/20\n",
      "317/317 [==============================] - 86s 271ms/step - loss: 1.5789 - accuracy: 0.5391 - val_loss: 1.3729 - val_accuracy: 0.6100\n",
      "Epoch 4/20\n",
      "317/317 [==============================] - 86s 271ms/step - loss: 1.2828 - accuracy: 0.6319 - val_loss: 1.2047 - val_accuracy: 0.6390\n",
      "Epoch 5/20\n",
      "317/317 [==============================] - 87s 273ms/step - loss: 1.1216 - accuracy: 0.6824 - val_loss: 1.1297 - val_accuracy: 0.6880\n",
      "Epoch 6/20\n",
      "317/317 [==============================] - 85s 270ms/step - loss: 1.0004 - accuracy: 0.7139 - val_loss: 1.0377 - val_accuracy: 0.6920\n",
      "Epoch 7/20\n",
      "317/317 [==============================] - 85s 269ms/step - loss: 0.9040 - accuracy: 0.7420 - val_loss: 1.1342 - val_accuracy: 0.6910\n",
      "Epoch 8/20\n",
      "317/317 [==============================] - 88s 277ms/step - loss: 0.8379 - accuracy: 0.7610 - val_loss: 0.9875 - val_accuracy: 0.7370\n",
      "Epoch 9/20\n",
      "317/317 [==============================] - 85s 269ms/step - loss: 0.7810 - accuracy: 0.7739 - val_loss: 0.9904 - val_accuracy: 0.7330\n",
      "Epoch 10/20\n",
      "317/317 [==============================] - 85s 267ms/step - loss: 0.7499 - accuracy: 0.7866 - val_loss: 1.0266 - val_accuracy: 0.7270\n",
      "Epoch 11/20\n",
      "317/317 [==============================] - 86s 272ms/step - loss: 0.6791 - accuracy: 0.8046 - val_loss: 1.0569 - val_accuracy: 0.7480\n",
      "Epoch 12/20\n",
      "317/317 [==============================] - 94s 298ms/step - loss: 0.6302 - accuracy: 0.8132 - val_loss: 1.0454 - val_accuracy: 0.7450\n",
      "Epoch 13/20\n",
      "317/317 [==============================] - 85s 268ms/step - loss: 0.6164 - accuracy: 0.8184 - val_loss: 1.0658 - val_accuracy: 0.7560\n",
      "Epoch 14/20\n",
      "317/317 [==============================] - 85s 268ms/step - loss: 0.5583 - accuracy: 0.8389 - val_loss: 0.9459 - val_accuracy: 0.7530\n",
      "Epoch 15/20\n",
      "317/317 [==============================] - 85s 267ms/step - loss: 0.5336 - accuracy: 0.8434 - val_loss: 1.1833 - val_accuracy: 0.7420\n",
      "Epoch 16/20\n",
      "317/317 [==============================] - 84s 266ms/step - loss: 0.5097 - accuracy: 0.8510 - val_loss: 1.0554 - val_accuracy: 0.7530\n",
      "Epoch 17/20\n",
      "317/317 [==============================] - 85s 268ms/step - loss: 0.4785 - accuracy: 0.8588 - val_loss: 1.0691 - val_accuracy: 0.7530\n",
      "Epoch 18/20\n",
      "317/317 [==============================] - 85s 269ms/step - loss: 0.4761 - accuracy: 0.8589 - val_loss: 1.0949 - val_accuracy: 0.7610\n",
      "Epoch 19/20\n",
      "317/317 [==============================] - 87s 275ms/step - loss: 0.4434 - accuracy: 0.8680 - val_loss: 1.1697 - val_accuracy: 0.7610\n",
      "Epoch 20/20\n",
      "317/317 [==============================] - 85s 268ms/step - loss: 0.4400 - accuracy: 0.8758 - val_loss: 1.1442 - val_accuracy: 0.7600\n"
     ]
    }
   ],
   "source": [
    "# train the model \n",
    "history = model.fit(X_train_ready, y_train, epochs=20, validation_data=(X_valid_ready, y_valid))"
   ]
  },
  {
   "cell_type": "code",
   "execution_count": 29,
   "id": "94ccee60",
   "metadata": {},
   "outputs": [
    {
     "data": {
      "text/plain": [
       "dict_keys(['loss', 'accuracy', 'val_loss', 'val_accuracy'])"
      ]
     },
     "execution_count": 29,
     "metadata": {},
     "output_type": "execute_result"
    }
   ],
   "source": [
    "#loss func to compares the desired output and the actual output of the network.\n",
    "history.history.keys()"
   ]
  },
  {
   "cell_type": "code",
   "execution_count": 30,
   "id": "7d08d858",
   "metadata": {},
   "outputs": [
    {
     "data": {
      "text/plain": [
       "<AxesSubplot:>"
      ]
     },
     "execution_count": 30,
     "metadata": {},
     "output_type": "execute_result"
    },
    {
     "data": {
      "image/png": "[encoded data removed]",
      "text/plain": [
       "<Figure size 800x500 with 1 Axes>"
      ]
     },
     "metadata": {},
     "output_type": "display_data"
    },
    {
     "data": {
      "image/png": "[encoded data removed]",
      "text/plain": [
       "<Figure size 800x500 with 1 Axes>"
      ]
     },
     "metadata": {},
     "output_type": "display_data"
    }
   ],
   "source": [
    "#create a Pandas DataFrame using this dictionary and call its plot() method\n",
    "#  both the training and validation accuracy steadily increase during\n",
    "# training, while the training and validation loss decrease,means good enougth for this model.\n",
    "\n",
    "history = pd.DataFrame(history.history)\n",
    "history.loc[:,['accuracy','val_accuracy']].plot(figsize=(8,5))\n",
    "history.loc[:,['loss','val_loss']].plot(figsize=(8,5))"
   ]
  },
  {
   "cell_type": "code",
   "execution_count": 31,
   "id": "16d38cf2",
   "metadata": {},
   "outputs": [
    {
     "name": "stdout",
     "output_type": "stream",
     "text": [
      "348/348 [==============================] - 23s 65ms/step - loss: 0.3105 - accuracy: 0.9188\n"
     ]
    },
    {
     "data": {
      "text/plain": [
       "[0.31045493483543396, 0.9187780618667603]"
      ]
     },
     "execution_count": 31,
     "metadata": {},
     "output_type": "execute_result"
    }
   ],
   "source": [
    "# evaluate the model on the test set to estimate the generalization error.\n",
    "model.evaluate(X_test_ready, y_test)"
   ]
  },
  {
   "cell_type": "code",
   "execution_count": 32,
   "id": "1598cae7",
   "metadata": {},
   "outputs": [
    {
     "name": "stdout",
     "output_type": "stream",
     "text": [
      "1/1 [==============================] - 0s 151ms/step\n"
     ]
    },
    {
     "data": {
      "text/plain": [
       "array([[0., 0., 0., 0., 0., 0., 0., 0., 0., 0., 0., 0., 0., 0., 0., 0.,\n",
       "        0., 0., 0., 0., 0., 0., 0., 0., 1., 0.],\n",
       "       [0., 0., 0., 0., 0., 0., 0., 0., 0., 0., 0., 0., 0., 0., 0., 0.,\n",
       "        0., 0., 0., 0., 0., 0., 0., 0., 0., 1.],\n",
       "       [1., 0., 0., 0., 0., 0., 0., 0., 0., 0., 0., 0., 0., 0., 0., 0.,\n",
       "        0., 0., 0., 0., 0., 0., 0., 0., 0., 0.]], dtype=float32)"
      ]
     },
     "execution_count": 32,
     "metadata": {},
     "output_type": "execute_result"
    }
   ],
   "source": [
    "# see how the model can classified three images \n",
    "X_new = X_test_ready[:3]\n",
    "y_proba = model.predict(X_new)\n",
    "y_proba.round(2)"
   ]
  },
  {
   "cell_type": "code",
   "execution_count": 33,
   "id": "eb6ceb5b",
   "metadata": {},
   "outputs": [
    {
     "name": "stdout",
     "output_type": "stream",
     "text": [
      "1/1 [==============================] - 0s 21ms/step\n"
     ]
    }
   ],
   "source": [
    "# see the predections result with classes labels\n",
    "y_pred = model.predict(X_new)\n",
    "classes_x=np.argmax(y_pred,axis=1)"
   ]
  },
  {
   "cell_type": "code",
   "execution_count": 34,
   "id": "14646db1",
   "metadata": {},
   "outputs": [
    {
     "data": {
      "text/plain": [
       "array([24, 25,  0], dtype=int64)"
      ]
     },
     "execution_count": 34,
     "metadata": {},
     "output_type": "execute_result"
    }
   ],
   "source": [
    "classes_x"
   ]
  },
  {
   "cell_type": "code",
   "execution_count": 35,
   "id": "bcdb8a53",
   "metadata": {},
   "outputs": [
    {
     "data": {
      "text/plain": [
       "array(['Y', 'Z', 'A'], dtype=object)"
      ]
     },
     "execution_count": 35,
     "metadata": {},
     "output_type": "execute_result"
    }
   ],
   "source": [
    "# see the actualy result, means the model classified three images correct.\n",
    "np.array(labels)[classes_x]"
   ]
  },
  {
   "cell_type": "code",
   "execution_count": 36,
   "id": "286198bc",
   "metadata": {},
   "outputs": [
    {
     "data": {
      "text/plain": [
       "array([24, 25,  0], dtype=int64)"
      ]
     },
     "execution_count": 36,
     "metadata": {},
     "output_type": "execute_result"
    }
   ],
   "source": [
    "# see in array of the three actual letters images,model had classified correct. \n",
    "y_new = y_test[:3]\n",
    "classes_y=np.argmax(y_new,axis=1)\n",
    "classes_y"
   ]
  }
 ],
 "metadata": {
  "kernelspec": {
   "display_name": "Python 3 (ipykernel)",
   "language": "python",
   "name": "python3"
  },
  "language_info": {
   "codemirror_mode": {
    "name": "ipython",
    "version": 3
   },
   "file_extension": ".py",
   "mimetype": "text/x-python",
   "name": "python",
   "nbconvert_exporter": "python",
   "pygments_lexer": "ipython3",
   "version": "3.9.13"
  }
 },
 "nbformat": 4,
 "nbformat_minor": 5
}
